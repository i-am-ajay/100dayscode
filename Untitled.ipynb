{
 "cells": [
  {
   "cell_type": "code",
   "execution_count": 14,
   "id": "c297d65e",
   "metadata": {},
   "outputs": [],
   "source": [
    "import tkinter\n",
    "\n",
    "window = tkinter.Tk()\n",
    "\n",
    "window.title(\"Test Window\")\n",
    "window.minsize(500,300)\n",
    "\n",
    "label = tkinter.Label()\n",
    "label.config(text=\"This is new label\",font=('Arial',20,'bold'))\n",
    "label.pack()\n",
    "window.mainloop()"
   ]
  },
  {
   "cell_type": "code",
   "execution_count": 7,
   "id": "b0719199",
   "metadata": {},
   "outputs": [
    {
     "data": {
      "text/plain": [
       "tuple"
      ]
     },
     "execution_count": 7,
     "metadata": {},
     "output_type": "execute_result"
    }
   ],
   "source": [
    "type((1,))"
   ]
  },
  {
   "cell_type": "code",
   "execution_count": 36,
   "id": "e9919a1d",
   "metadata": {},
   "outputs": [
    {
     "name": "stdout",
     "output_type": "stream",
     "text": [
      "hello\n"
     ]
    }
   ],
   "source": [
    "# button that changes label\n",
    "import tkinter\n",
    "\n",
    "window = tkinter.Tk()\n",
    "label = tkinter.Label(text=\"Hello World!\") \n",
    "label.pack()\n",
    "\n",
    "def changeButtonLabel():\n",
    "    print(\"hello\")\n",
    "    label.config(text=\"Button Pressed\")\n",
    "    \n",
    "button = tkinter.Button(text=\"Press Me\",fg=\"red\",command=changeButtonLabel)\n",
    "button.pack()\n",
    "\n",
    "window.mainloop()\n",
    "\n"
   ]
  },
  {
   "cell_type": "code",
   "execution_count": 39,
   "id": "d3225bda",
   "metadata": {},
   "outputs": [
    {
     "name": "stdout",
     "output_type": "stream",
     "text": [
      "My Text\n",
      "My Text\n"
     ]
    }
   ],
   "source": [
    "# print entry value on scree\n",
    "import tkinter\n",
    "\n",
    "window = tkinter.Tk()\n",
    "label = tkinter.Label(text=\"Name\",font=(\"Arial\",10,\"normal\"))\n",
    "entry = tkinter.Entry()\n",
    "button = tkinter.Button(text=\"Press\",bg=\"yellow\",fg=\"red\", command=getText)\n",
    "\n",
    "def getText():\n",
    "    print(entry.get())\n",
    "\n",
    "label.pack()\n",
    "entry.pack()\n",
    "button.pack()\n",
    "window.mainloop()\n"
   ]
  },
  {
   "cell_type": "code",
   "execution_count": 68,
   "id": "b65c3780",
   "metadata": {},
   "outputs": [],
   "source": [
    "# tkinter widgets\n",
    "# text box\n",
    "window = tkinter.Tk()\n",
    "\n",
    "text = tkinter.Text()\n",
    "text.configure(width=20, height=2)\n",
    "text.pack()\n",
    "\n",
    "def onButtonPress():\n",
    "    print(text.get(\"1.0\"))\n",
    "\n",
    "button1 = tkinter.Button(text=\"Press\",command=onButtonPress)\n",
    "button1.pack()\n",
    "\n",
    "\n",
    "\n",
    "window.mainloop()"
   ]
  },
  {
   "cell_type": "code",
   "execution_count": 67,
   "id": "b099db07",
   "metadata": {},
   "outputs": [
    {
     "name": "stdout",
     "output_type": "stream",
     "text": [
      "1\n",
      "2\n",
      "3\n",
      "4\n",
      "5\n",
      "6\n",
      "7\n"
     ]
    }
   ],
   "source": [
    "# spin box\n",
    "window = tkinter.Tk()\n",
    "def readVal():\n",
    "    print(spinBox.get())\n",
    "    \n",
    "spinBox = tkinter.Spinbox(from_=0, to=10, width=5, command=readVal)\n",
    "spinBox.pack()\n",
    "\n",
    "window.mainloop()"
   ]
  },
  {
   "cell_type": "code",
   "execution_count": 69,
   "id": "32a2041d",
   "metadata": {},
   "outputs": [
    {
     "name": "stdout",
     "output_type": "stream",
     "text": [
      "1\n",
      "3\n",
      "6\n",
      "7\n",
      "9\n",
      "10\n",
      "12\n",
      "15\n",
      "16\n",
      "18\n",
      "19\n",
      "22\n",
      "24\n",
      "25\n",
      "26\n",
      "29\n",
      "31\n",
      "32\n",
      "34\n",
      "37\n",
      "38\n",
      "40\n",
      "41\n",
      "43\n",
      "44\n",
      "46\n",
      "47\n",
      "44\n",
      "43\n",
      "41\n",
      "40\n",
      "38\n",
      "35\n",
      "34\n",
      "32\n",
      "31\n",
      "28\n",
      "26\n",
      "24\n",
      "22\n",
      "21\n",
      "19\n",
      "16\n"
     ]
    }
   ],
   "source": [
    "# scale\n",
    "import tkinter \n",
    "\n",
    "window = tkinter.Tk()\n",
    "\n",
    "def readScale(val):\n",
    "    print(val)\n",
    "\n",
    "scale = tkinter.Scale(from_=0, to=100, command=readScale)\n",
    "scale.pack()\n",
    "\n",
    "window.mainloop()"
   ]
  },
  {
   "cell_type": "code",
   "execution_count": 71,
   "id": "cde5dff1",
   "metadata": {},
   "outputs": [
    {
     "name": "stdout",
     "output_type": "stream",
     "text": [
      "1\n",
      "0\n",
      "1\n"
     ]
    }
   ],
   "source": [
    "# using a checkbox\n",
    "window = tkinter.Tk()\n",
    "\n",
    "def checkboxStat():\n",
    "    print(checkVar.get())\n",
    "    \n",
    "checkVar = tkinter.IntVar()\n",
    "checkbox = tkinter.Checkbutton(text=\"Is On\", variable=checkVar, command=checkboxStat)\n",
    "checkbox.pack()\n",
    "\n",
    "window.mainloop()"
   ]
  },
  {
   "cell_type": "code",
   "execution_count": 77,
   "id": "2c7422ce",
   "metadata": {},
   "outputs": [],
   "source": [
    "# radio button\n",
    "window = tkinter.Tk()\n",
    "\n",
    "def getVal():\n",
    "    print(buttonState.get())\n",
    "\n",
    "buttonState = tkinter.StringVar()\n",
    "\n",
    "radio1 = tkinter.Radiobutton(text=\"Male\", value=\"M\", variable=buttonState, command=getVal)\n",
    "radio1.pack()\n",
    "radio2.pack()\n",
    "\n",
    "window.mainloop()"
   ]
  },
  {
   "cell_type": "code",
   "execution_count": 93,
   "id": "63f47dfd",
   "metadata": {},
   "outputs": [],
   "source": [
    "# lISTBOX\n",
    "\n",
    "window = tkinter.Tk()\n",
    "\n",
    "def listBoxUsed(event):\n",
    "    print(listBox.get(listBox.curselection()))\n",
    "\n",
    "listBox = tkinter.Listbox(height=4)\n",
    "li = ['Apple','Orange','Banana','Grapes']\n",
    "for item in li:\n",
    "    listBox.insert(li.index(item),item)\n",
    "listBox.bind(\"<<ListboxSelect>>\",listBoxUsed)\n",
    "listBox.pack()\n",
    "window.mainloop()"
   ]
  },
  {
   "cell_type": "code",
   "execution_count": 109,
   "id": "ed12f3a7",
   "metadata": {},
   "outputs": [],
   "source": [
    "# tkinter layout grid, you can simply use a grid to add widgets to it\n",
    "\n",
    "window = tkinter.Tk()\n",
    "\n",
    "# label\n",
    "label = tkinter.Label(text=\"Hello\", font=(\"Arial\",20,\"bold\"))\n",
    "label.grid(column=0,row=0)\n",
    "\n",
    "# entry\n",
    "def getEntryValue():\n",
    "    label.config(text=entry.get())\n",
    "    \n",
    "entry = tkinter.Entry(text=\"value\")\n",
    "entry.grid(column=0, row=1)\n",
    "\n",
    "# text\n",
    "text = tkinter.Text(width=5,height=6)\n",
    "text.grid(column=1,row=2)\n",
    "\n",
    "# button\n",
    "button = tkinter.Button(text=\"press\",fg=\"red\",bg=\"yellow\")\n",
    "button.grid(column=2, row=3)\n",
    "\n",
    "\n",
    "\n",
    "window.mainloop()\n"
   ]
  },
  {
   "cell_type": "code",
   "execution_count": null,
   "id": "9d01d180",
   "metadata": {},
   "outputs": [],
   "source": []
  }
 ],
 "metadata": {
  "kernelspec": {
   "display_name": "Python 3 (ipykernel)",
   "language": "python",
   "name": "python3"
  },
  "language_info": {
   "codemirror_mode": {
    "name": "ipython",
    "version": 3
   },
   "file_extension": ".py",
   "mimetype": "text/x-python",
   "name": "python",
   "nbconvert_exporter": "python",
   "pygments_lexer": "ipython3",
   "version": "3.9.7"
  }
 },
 "nbformat": 4,
 "nbformat_minor": 5
}
